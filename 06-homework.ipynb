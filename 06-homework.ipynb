{
 "cells": [
  {
   "cell_type": "code",
   "execution_count": 1,
   "metadata": {},
   "outputs": [],
   "source": [
    "import sympy, sympy.abc\n",
    "import numpy as np\n",
    "import matplotlib.pyplot as plt\n",
    "import io, urllib.request"
   ]
  },
  {
   "cell_type": "markdown",
   "metadata": {},
   "source": [
    "For this week's programming homework we use [SymPy](https://www.sympy.org/), a Python library for symbolic mathematics. It is installed on Google Colab. Run `pip install sympy` or similar to install it on your machine if you prefer not to work online."
   ]
  },
  {
   "cell_type": "markdown",
   "metadata": {},
   "source": [
    "# Modular Mathematics"
   ]
  },
  {
   "cell_type": "markdown",
   "metadata": {},
   "source": [
    "Reed-Solomon codes are based on arithmetic in $\\mathbb F_q = \\{0,1,\\dots,q-1\\}$. For your convenience, we provide you with some functions that wrap SymPy's functionality to deal with this, so that you don't have to spend any time reading the SymPy manual.\n",
    "\n",
    "**You can ignore the following code: Just run it and see right below for instructions how to use it.**"
   ]
  },
  {
   "cell_type": "code",
   "execution_count": 2,
   "metadata": {},
   "outputs": [],
   "source": [
    "from collections.abc import Iterable\n",
    "\n",
    "\n",
    "def equals_mod(x, y, q):\n",
    "    F = sympy.GF(q)\n",
    "    if not isinstance(x, Iterable):\n",
    "        x, y = [x], [y]\n",
    "    return list(map(F, x)) == list(map(F, y))\n",
    "\n",
    "\n",
    "class Poly:\n",
    "    def __init__(self, p):\n",
    "        assert isinstance(p, sympy.Poly)\n",
    "        self.p = p\n",
    "\n",
    "    def __repr__(self):\n",
    "        return repr(self.p.as_expr())\n",
    "\n",
    "    def __eq__(self, other):\n",
    "        return self.p.domain == other.p.domain and self.p == other.p\n",
    "\n",
    "    def __add__(self, other):\n",
    "        return Poly(self.p + other.p)\n",
    "\n",
    "    def __sub__(self, other):\n",
    "        return Poly(self.p - other.p)\n",
    "\n",
    "    def __mul__(self, other):\n",
    "        return Poly(self.p * other.p)\n",
    "\n",
    "    def __mod__(self, other):\n",
    "        return Poly(sympy.rem(self.p, other.p, domain=self.p.domain))\n",
    "\n",
    "    def __call__(self, x):\n",
    "        return self.p(self.p.domain(x))\n",
    "\n",
    "    def coeffs(self, N):\n",
    "        assert self.p.degree() < N, f\"Polynomial has more than {N} coefficients.\"\n",
    "        result = self.p.all_coeffs()[::-1]\n",
    "        return result + [0] * (N - len(result))\n",
    "\n",
    "\n",
    "def poly_from_coeffs(coeffs, q):\n",
    "    return Poly(sympy.Poly(coeffs[::-1], sympy.abc.Z, domain=sympy.GF(q)))\n",
    "\n",
    "\n",
    "def poly_from_degrees_and_coeffs(degrees, coeffs, q):\n",
    "    dct = {d: c for d, c in zip(degrees, coeffs)}\n",
    "    return Poly(sympy.Poly(dct, sympy.abc.Z, domain=sympy.GF(q)))\n",
    "\n",
    "\n",
    "def poly_from_string(s, q):\n",
    "    return Poly(sympy.sympify(s).as_poly(sympy.abc.Z, domain=sympy.GF(q)))\n",
    "\n",
    "\n",
    "def linear_solve_mod(M, b, q):\n",
    "    M = sympy.Matrix(M, domain=sympy.GF(q))\n",
    "    b = sympy.Matrix([b], domain=sympy.GF(q)).T\n",
    "    assert M.rows == M.cols, \"Square matrix expected\"\n",
    "    x = M.inv_mod(q) @ b\n",
    "    return [c % q for c in x]\n",
    "\n",
    "\n",
    "def det_mod(M, q):\n",
    "    return sympy.GF(q)(sympy.Matrix(M).det())"
   ]
  },
  {
   "cell_type": "markdown",
   "metadata": {},
   "source": [
    "Here follows the documentation that shows you how to use the above code.\n",
    "\n",
    "**If you have trouble understanding the below, please do not hesitate to ask the teaching assistants (or me) by email or in person.**"
   ]
  },
  {
   "cell_type": "markdown",
   "metadata": {},
   "source": [
    "## Comparing numbers or lists of numbers\n",
    "\n",
    "Given two numbers or lists of numbers, you can use the `equals_mod` function to compare them modulo $q$:"
   ]
  },
  {
   "cell_type": "code",
   "execution_count": 3,
   "metadata": {},
   "outputs": [],
   "source": [
    "assert equals_mod(2, -3, q=5)\n",
    "assert equals_mod([2, 3], [-5, -4], q=7)"
   ]
  },
  {
   "cell_type": "markdown",
   "metadata": {},
   "source": [
    "## Polynomials\n",
    "There are three ways to **create polynomials**, namely by specifying\n",
    "1. a list of coefficients (in the same order as discussed in class: the constant coefficient goes first)\n",
    "2. a list of degrees and a list of coefficients\n",
    "3. a string\n",
    "\n",
    "as well as $q$, the size of $\\mathbb F_q$. The third option is mostly useful for debugging.\n",
    "\n",
    "The following code creates the polynomial $1 - X^2$ for $q=3$ in the three different ways:"
   ]
  },
  {
   "cell_type": "code",
   "execution_count": 4,
   "metadata": {},
   "outputs": [],
   "source": [
    "A = poly_from_coeffs([1, 0, -1], q=3)\n",
    "B = poly_from_degrees_and_coeffs([0, 2], [1, -1], q=3)\n",
    "C = poly_from_string(\"1 - Z**2\", q=3)\n",
    "assert A == B == C"
   ]
  },
  {
   "cell_type": "markdown",
   "metadata": {},
   "source": [
    "You can **add**, **subtract**, and **multiply** polynomials just like you would expect:"
   ]
  },
  {
   "cell_type": "code",
   "execution_count": 5,
   "metadata": {},
   "outputs": [],
   "source": [
    "A = poly_from_string(\"1\", q=5)\n",
    "B = poly_from_string(\"Z - 1\", q=5)\n",
    "C = poly_from_string(\"Z\", q=5)\n",
    "D = poly_from_string(\"Z**2 - Z\", q=5)\n",
    "assert A + B == C and C - B == A and A * B * C == D"
   ]
  },
  {
   "cell_type": "markdown",
   "metadata": {},
   "source": [
    "Likewise, to compute the **remainder** of $A$ divided by $B$:"
   ]
  },
  {
   "cell_type": "code",
   "execution_count": 6,
   "metadata": {},
   "outputs": [],
   "source": [
    "A = poly_from_string(\"2*Z**2 + Z**4\", q=5)\n",
    "B = poly_from_string(\"Z**2 + 4*Z\", q=5)\n",
    "assert A % B == poly_from_string(\"3*Z\", q=5)"
   ]
  },
  {
   "cell_type": "markdown",
   "metadata": {},
   "source": [
    "You can also **evaluate** polynomials, i.e., compute $P(x)$ for some $x$, in the obvious way:"
   ]
  },
  {
   "cell_type": "code",
   "execution_count": 7,
   "metadata": {},
   "outputs": [
    {
     "data": {
      "text/latex": [
       "$\\displaystyle -1$"
      ],
      "text/plain": [
       "-1"
      ]
     },
     "execution_count": 7,
     "metadata": {},
     "output_type": "execute_result"
    }
   ],
   "source": [
    "P = poly_from_string(\"Z**2 - 5\", q=7)\n",
    "P(2)"
   ]
  },
  {
   "cell_type": "markdown",
   "metadata": {},
   "source": [
    "Finally, you can extract the polynomial's **coefficients** as follows. The parameter specifies how many coefficients to extract (starting with the constant term):"
   ]
  },
  {
   "cell_type": "code",
   "execution_count": 8,
   "metadata": {},
   "outputs": [
    {
     "data": {
      "text/plain": [
       "[1, -2, 3, 0, 0, 0, 0, 0, 0, 0]"
      ]
     },
     "execution_count": 8,
     "metadata": {},
     "output_type": "execute_result"
    }
   ],
   "source": [
    "P = poly_from_string(\"3 * Z**2 - 2 * Z + 1\", q=7)\n",
    "P.coeffs(10)"
   ]
  },
  {
   "cell_type": "markdown",
   "metadata": {},
   "source": [
    "## Linear Equations"
   ]
  },
  {
   "cell_type": "markdown",
   "metadata": {},
   "source": [
    "We also provide you with some means of dealing a system of **linear equations** modulo $q$.\n",
    "We will only be interested in the case that there are as many equations as unknowns.\n",
    "Thus, suppose $M$ is a *square* matrix and $\\mathbf b$ a vector and you want to find a solution vector $\\mathbf a$ that **solves**:\n",
    "\n",
    "$$M \\mathbf a \\equiv \\mathbf b \\pmod q$$\n",
    "\n",
    "This can be done using `linear_solve_mod` function.\n",
    "\n",
    "For example, the equations $2 a_1 + a_2 \\equiv 2$ and $a_2 \\equiv 3$ modulo $7$ can be written as\n",
    "\n",
    "$$\n",
    "\\begin{bmatrix}2 & 1 \\\\ 0 & 1\\end{bmatrix} \\begin{bmatrix}a_1\\\\a_2\\end{bmatrix} = \\begin{bmatrix}2 \\\\ 3\\end{bmatrix} \\pmod 7\n",
    "$$\n",
    "\n",
    "and can be solved as follows.\n",
    "Note that, where we represent $M$ as a list of lists (row by row) and $\\mathbf b$ by a list."
   ]
  },
  {
   "cell_type": "code",
   "execution_count": 9,
   "metadata": {},
   "outputs": [
    {
     "data": {
      "text/plain": [
       "[3, 3]"
      ]
     },
     "execution_count": 9,
     "metadata": {},
     "output_type": "execute_result"
    }
   ],
   "source": [
    "M = [[2, 1], [0, 1]]\n",
    "b = [2, 3]\n",
    "linear_solve_mod(M, b, q=7)"
   ]
  },
  {
   "cell_type": "markdown",
   "metadata": {},
   "source": [
    "A system of equations as above has a unique solution if and only if the **determinant** of the matrix is nonzero.\n",
    "Use `det_mod` to compute the determinant:"
   ]
  },
  {
   "cell_type": "code",
   "execution_count": 10,
   "metadata": {},
   "outputs": [],
   "source": [
    "assert det_mod(M, q=7) != 0\n",
    "assert det_mod(M, q=2) == 0"
   ]
  },
  {
   "cell_type": "markdown",
   "metadata": {},
   "source": [
    "# Reed-Solomon Codes"
   ]
  },
  {
   "cell_type": "markdown",
   "metadata": {},
   "source": [
    "Now starts the fun part!\n",
    "Recall that a Reed-Solomon code is specified by parameters $K < N < q$ and $\\alpha$.\n",
    "Like in class, we define $T = N - K$.\n",
    "\n",
    "**Your first task is to compute the generator polynomial** given $T$, $\\alpha$, and $q$:"
   ]
  },
  {
   "cell_type": "code",
   "execution_count": null,
   "metadata": {},
   "outputs": [],
   "source": [
    "def generator_poly(T, alpha, q):\n",
    "    G = poly_from_coeffs([1], q=q)\n",
    "    # TODO: can you implement the rest?\n",
    "    return G"
   ]
  },
  {
   "cell_type": "markdown",
   "metadata": {},
   "source": [
    "Here is a test to make sure everything works fine (we discussed this example in class):"
   ]
  },
  {
   "cell_type": "code",
   "execution_count": null,
   "metadata": {},
   "outputs": [],
   "source": [
    "assert generator_poly(T=2, alpha=2, q=5) == poly_from_string(\"Z**2 - Z - 2\", q=5)"
   ]
  },
  {
   "cell_type": "markdown",
   "metadata": {},
   "source": [
    "## Encoder\n",
    "\n",
    "**Your next task is to program the encoder**. Your function should take as input the message $s^K$ as a list of length $K$, as well as $T$, $\\alpha$, and $q$, and it should return the codeword as a list of length $N = K + T$."
   ]
  },
  {
   "cell_type": "code",
   "execution_count": null,
   "metadata": {},
   "outputs": [],
   "source": [
    "def encode(s, T, alpha, q):\n",
    "    K = len(s)\n",
    "    N = K + T\n",
    "    # TODO: can you implement the rest?\n",
    "    return ..."
   ]
  },
  {
   "cell_type": "markdown",
   "metadata": {},
   "source": [
    "Here are two tests to check your code. The first one is from Lecture 12, the other taken from Wikipedia:"
   ]
  },
  {
   "cell_type": "code",
   "execution_count": null,
   "metadata": {},
   "outputs": [],
   "source": [
    "for s in range(5):\n",
    "    x = encode([s], T=2, alpha=2, q=5)\n",
    "    assert equals_mod(x, [-2 * s, -s, s], q=5)\n",
    "\n",
    "wiki = encode([1, 2, 3], T=4, q=929, alpha=3)\n",
    "assert equals_mod(wiki, [474, 487, 191, 382, 1, 2, 3], q=929)"
   ]
  },
  {
   "cell_type": "markdown",
   "metadata": {},
   "source": [
    "## Decoding Erasure Errors\n",
    "\n",
    "Now it's time to start decoding.\n",
    "**Implement the decoding algorithm for erasure errors discussed in class.**\n",
    "Your function should take as input the received string $y^N$ (as a list of length $N$), the locations of the errors (as a list of size at most $T$), as well as $T$, $\\alpha$, and $q$. Just like in the lecture, each error location is an integer between $0$ and $N-1$. Your function should return as output the decoded message $s^K$."
   ]
  },
  {
   "cell_type": "code",
   "execution_count": null,
   "metadata": {},
   "outputs": [],
   "source": [
    "def decode_erasures(y, locations, T, alpha, q):\n",
    "    N = len(y)\n",
    "    K = N - T\n",
    "    assert len(locations) <= T, f\"Can decode at most {T} erasure errors.\"\n",
    "    # TODO: can you implement the rest?\n",
    "    return ..."
   ]
  },
  {
   "cell_type": "markdown",
   "metadata": {},
   "source": [
    "You can verify your code with following tests:"
   ]
  },
  {
   "cell_type": "code",
   "execution_count": null,
   "metadata": {},
   "outputs": [],
   "source": [
    "for s in range(5):\n",
    "    got = decode_erasures([0, -s, 0], locations=[0, 2], T=2, q=5, alpha=2)\n",
    "    assert equals_mod(got, [s], q=5)\n",
    "\n",
    "wiki_corrupted = [0, 0, 191, 382, 0, 0, 3]\n",
    "wiki_locations = [0, 1, 4, 5]\n",
    "s = decode_erasures(wiki_corrupted, wiki_locations, T=4, q=929, alpha=3)\n",
    "assert equals_mod(s, [1, 2, 3], q=929)"
   ]
  },
  {
   "cell_type": "markdown",
   "metadata": {},
   "source": [
    "## Decoding Errors at Unknown Locations"
   ]
  },
  {
   "cell_type": "markdown",
   "metadata": {},
   "source": [
    "Erasure errors are fun, but errors at unknown locations are the \"real deal\". **If we won't have time to discuss this in the Wednesday lecture, you will discuss this on Friday in the tutorials. Alternatively, you can watch the following 19-minute video from last year:**\n",
    "\n",
    "https://www.youtube.com/watch?v=0r-g8qiWC6c&list=PLbBoaSCFITu6_6W-sN2NsL7ERLZI_ip6I&index=12&t=2064s\n",
    "\n",
    "**Maybe you could watch it together with your homework group? Please feel very free to ask us by email if you have any questions about this!**\n",
    "\n",
    "PS: This material is also discussed in the handwritten lecture notes on Canvas, so it might be useful to read along as you watch the video. Note that last year we wrote X instead of Z for the variable in the polynomials. Apologies for any confusion that this might cause."
   ]
  },
  {
   "cell_type": "markdown",
   "metadata": {},
   "source": [
    "**Your final task is to implement the decoding algorithm for errors at unknown locations described in the lecture and the exercise class.**\n",
    "Your function should take as input $y^N$, $T$, $\\alpha$, $q$, and it should return the decoded message $s^K$ (same format as above).\n",
    "\n",
    "*Hint: See the [lecture notes](https://staff.fnwi.uva.nl/m.walter/iit21/12-lecture.pdf) for a detailed description. First determine the location of the errors and then use `decode_erasures` from above.*"
   ]
  },
  {
   "cell_type": "code",
   "execution_count": null,
   "metadata": {},
   "outputs": [],
   "source": [
    "def decode_unknown(y, T, alpha, q):\n",
    "    N = len(y)\n",
    "    K = N - T\n",
    "    # TODO: can you implement the rest?\n",
    "    return ..."
   ]
  },
  {
   "cell_type": "markdown",
   "metadata": {},
   "source": [
    "As usual here are some tests to verify your implementation:"
   ]
  },
  {
   "cell_type": "code",
   "execution_count": null,
   "metadata": {},
   "outputs": [],
   "source": [
    "for s in range(5):\n",
    "    for t in range(5):\n",
    "        got = decode_unknown([-2 * s, -s, t], T=2, q=5, alpha=2)  # location 2\n",
    "        assert equals_mod(got, [s], q=5)\n",
    "\n",
    "wiki_corrupted = [474, 23, 191, 382, 1, 99, 3]  # location 1 and 5\n",
    "s = decode_unknown(wiki_corrupted, T=4, q=929, alpha=3)\n",
    "assert equals_mod(s, [1, 2, 3], q=929)"
   ]
  },
  {
   "cell_type": "markdown",
   "metadata": {},
   "source": [
    "**This concludes your homework.** Below there are no further tasks for you to implement, but a nice application of the code that you just wrote."
   ]
  },
  {
   "cell_type": "markdown",
   "metadata": {},
   "source": [
    "# Tale of the Robot Gorilla"
   ]
  },
  {
   "cell_type": "markdown",
   "metadata": {},
   "source": [
    "Just for fun, let's take our Reed-Solomon code to good use by protecting an image against errors. The following code loads the black & white image."
   ]
  },
  {
   "cell_type": "code",
   "execution_count": null,
   "metadata": {},
   "outputs": [],
   "source": [
    "URL = \"https://github.com/amsqi/iit21-homework/raw/main/material/gorilla.png\"\n",
    "ORIGINAL_IMAGE = plt.imread(io.BytesIO(urllib.request.urlopen(URL).read()))\n",
    "assert ORIGINAL_IMAGE.shape[0] * ORIGINAL_IMAGE.shape[1] % 8 == 0, \"should be multiple of 8 pixels\"\n",
    "\n",
    "# remove alpha channel\n",
    "if ORIGINAL_IMAGE.shape[2] == 4:\n",
    "    alpha = ORIGINAL_IMAGE[:, :, 3:]\n",
    "    ORIGINAL_IMAGE = ORIGINAL_IMAGE[:, :, :3] * alpha + (1 - alpha)\n",
    "\n",
    "# convert to black & white\n",
    "WHITE_THRESHOLD = 0.4\n",
    "ORIGINAL_IMAGE = np.where(ORIGINAL_IMAGE[:, :, :3].max(axis=2) > WHITE_THRESHOLD, 0, 1)\n",
    "\n",
    "# show the figure\n",
    "plt.imshow(ORIGINAL_IMAGE, cmap=plt.get_cmap(\"binary\"), interpolation=\"none\")\n",
    "plt.show()"
   ]
  },
  {
   "cell_type": "markdown",
   "metadata": {},
   "source": [
    "Reed-Solomon codes use $\\mathbb F_q$ as an alphabet.\n",
    "We will choose $q=257$, so that every symbol can store up 8 bits (1 byte).\n",
    "The following functions convert between the 2d binary array representing an image and a list of strings over $\\mathbb F_q$."
   ]
  },
  {
   "cell_type": "code",
   "execution_count": null,
   "metadata": {},
   "outputs": [],
   "source": [
    "def image_to_bytes(img):\n",
    "    return np.packbits(img.reshape(-1))\n",
    "\n",
    "\n",
    "def bytes_to_image(bs):\n",
    "    return np.unpackbits(bs).reshape(ORIGINAL_IMAGE.shape)\n",
    "\n",
    "\n",
    "assert np.allclose(bytes_to_image(image_to_bytes(ORIGINAL_IMAGE)), ORIGINAL_IMAGE)"
   ]
  },
  {
   "cell_type": "markdown",
   "metadata": {},
   "source": [
    "Let us use as block size $N = 256 < q = 257$ and $\\alpha=3$ (a generator) and choose $T = 6$ (tolerating up to 3 errors at unknown locations per block). This means that we want to block our message into strings of length $K = 250$.\n",
    "Thus we obtain the following encoder:"
   ]
  },
  {
   "cell_type": "code",
   "execution_count": null,
   "metadata": {},
   "outputs": [],
   "source": [
    "Q = 257\n",
    "ALPHA = 3\n",
    "N = 256\n",
    "K = 250\n",
    "T = N - K\n",
    "\n",
    "\n",
    "def encode_image(img):\n",
    "    bs = image_to_bytes(img)\n",
    "    assert len(bs) % K == 0\n",
    "    x = []\n",
    "    for i in range(len(bs) // K):\n",
    "        block = list(bs[K * i : K * (i + 1)])\n",
    "        enc = encode(block, T=T, alpha=ALPHA, q=Q)\n",
    "        x += enc\n",
    "    return x\n",
    "\n",
    "\n",
    "ENCODED_IMAGE = encode_image(ORIGINAL_IMAGE)"
   ]
  },
  {
   "cell_type": "markdown",
   "metadata": {},
   "source": [
    "Here is the corresponding decoder.\n",
    "The option `correct` determined if we apply error correction or not."
   ]
  },
  {
   "cell_type": "code",
   "execution_count": null,
   "metadata": {},
   "outputs": [],
   "source": [
    "def decode_image(y, correct):\n",
    "    assert len(y) % N == 0\n",
    "    bs = []\n",
    "    for i in range(len(y) // N):\n",
    "        block = y[N * i : N * (i + 1)]\n",
    "        if not correct:\n",
    "            dec = block[T:]\n",
    "        else:\n",
    "            try:\n",
    "                dec = decode_unknown(block, T=T, alpha=ALPHA, q=Q)\n",
    "            except:\n",
    "                print(f\"failed to correct error in block {i}\")\n",
    "                dec = block[T:]\n",
    "        dec = [s % Q for s in dec]  # to force in range 0..255\n",
    "        bs += dec\n",
    "    return bytes_to_image(np.array(bs, dtype=np.uint8))\n",
    "\n",
    "\n",
    "assert np.allclose(decode_image(ENCODED_IMAGE, correct=False), ORIGINAL_IMAGE)\n",
    "assert np.allclose(decode_image(ENCODED_IMAGE, correct=True), ORIGINAL_IMAGE)"
   ]
  },
  {
   "cell_type": "markdown",
   "metadata": {},
   "source": [
    "Now let's start corrupting the encoded image at 0.5% of the locations."
   ]
  },
  {
   "cell_type": "code",
   "execution_count": null,
   "metadata": {},
   "outputs": [],
   "source": [
    "CORRUPTED_IMAGE = list(ENCODED_IMAGE)\n",
    "l = len(CORRUPTED_IMAGE)\n",
    "np.random.seed(12345)\n",
    "for _ in range(l // 200):\n",
    "    loc = np.random.randint(l)\n",
    "    CORRUPTED_IMAGE[loc] = np.random.randint(Q)"
   ]
  },
  {
   "cell_type": "markdown",
   "metadata": {},
   "source": [
    "Now let us decode with and without error correction, and see if the Reed-Solomon code does its job!"
   ]
  },
  {
   "cell_type": "code",
   "execution_count": null,
   "metadata": {
    "scrolled": false
   },
   "outputs": [],
   "source": [
    "fig, row = plt.subplots(1, 4, figsize=(20, 20))\n",
    "\n",
    "# decode with and without correction\n",
    "uncorrected = decode_image(CORRUPTED_IMAGE, correct=False)\n",
    "uncorrected_delta = np.abs(uncorrected - ORIGINAL_IMAGE)\n",
    "corrected = decode_image(CORRUPTED_IMAGE, correct=True)\n",
    "corrected_delta = np.abs(corrected - ORIGINAL_IMAGE)\n",
    "\n",
    "# plot pictures\n",
    "row[0].set_title(\"without correction\")\n",
    "row[0].imshow(uncorrected, cmap=plt.get_cmap(\"binary\"), interpolation=\"none\")\n",
    "\n",
    "row[1].set_title(f\"errors (# = {uncorrected_delta.sum()})\")\n",
    "row[1].imshow(1 - uncorrected_delta, cmap=plt.get_cmap(\"binary\"), interpolation=\"none\")\n",
    "\n",
    "row[2].set_title(f\"with correction\")\n",
    "row[2].imshow(corrected, cmap=plt.get_cmap(\"binary\"), interpolation=\"none\")\n",
    "\n",
    "row[3].set_title(f\"remaining errors (# = {corrected_delta.sum()})\")\n",
    "row[3].imshow(1 - corrected_delta, cmap=plt.get_cmap(\"binary\"), interpolation=\"none\")\n",
    "\n",
    "\n",
    "fig.tight_layout()"
   ]
  }
 ],
 "metadata": {
  "kernelspec": {
   "display_name": "Python 3 (ipykernel)",
   "language": "python",
   "name": "python3"
  },
  "language_info": {
   "codemirror_mode": {
    "name": "ipython",
    "version": 3
   },
   "file_extension": ".py",
   "mimetype": "text/x-python",
   "name": "python",
   "nbconvert_exporter": "python",
   "pygments_lexer": "ipython3",
   "version": "3.10.0"
  }
 },
 "nbformat": 4,
 "nbformat_minor": 2
}
